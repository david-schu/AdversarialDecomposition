{
 "cells": [
  {
   "cell_type": "code",
   "execution_count": null,
   "metadata": {},
   "outputs": [],
   "source": [
    "import sys\n",
    "#sys.path.insert(0, './..')\n",
    "sys.path.insert(0, './data')\n",
    "\n",
    "import matplotlib.pyplot as plt\n",
    "import numpy as np\n",
    "import plots as pl\n",
    "from models import model\n",
    "import torch\n",
    "from utils import dev, load_data, classification\n",
    "from torchvision import datasets, transforms\n",
    "from models import eval"
   ]
  },
  {
   "cell_type": "markdown",
   "metadata": {},
   "source": [
    "# Make evenly distributed dataset with true samples only"
   ]
  },
  {
   "cell_type": "code",
   "execution_count": null,
   "metadata": {},
   "outputs": [],
   "source": [
    "images, labels = load_data(10000, random=False, train=False)\n",
    "correct_classes = np.full(labels.shape, True)\n",
    "\n",
    "for model_id in range(5):\n",
    "    md = model.madry_diff()\n",
    "    md.load_state_dict(torch.load('./models/natural_'+str(model_id)+'.pt', map_location=torch.device(dev())))\n",
    "    md.to(dev())\n",
    "    md.eval()\n",
    "    classes = md(images).argmax(1)\n",
    "    correct_classes[~(classes==labels).cpu()]=False\n",
    "\n",
    "for model_id in range(5):\n",
    "    md = model.madry_diff()\n",
    "    md.load_state_dict(torch.load('./models/robust_'+str(model_id)+'.pt', map_location=torch.device(dev())))\n",
    "    md.to(dev())\n",
    "    md.eval()\n",
    "    classes = md(images).argmax(1)\n",
    "    correct_classes[~(classes==labels).cpu()]=False\n",
    "\n",
    "images = images[correct_classes]\n",
    "labels = labels[correct_classes]\n",
    "\n",
    "data = {\n",
    "    'images': images.cpu(),\n",
    "    'labels': labels.cpu()\n",
    "}\n",
    "\n",
    "save_path = '/home/bethge/dschultheiss/AdversarialDecomposition/data/MNIST/stable_data.npy'\n",
    "# np.save(save_path, data)"
   ]
  },
  {
   "cell_type": "markdown",
   "metadata": {},
   "source": [
    "# Concatenate data"
   ]
  },
  {
   "cell_type": "code",
   "execution_count": null,
   "metadata": {},
   "outputs": [],
   "source": [
    "model_id = 3\n",
    "n_batches = 25\n",
    "model_type = 'natural'\n",
    "\n",
    "data = np.load(f'./data/{model_type}{model_id}_0.npy', allow_pickle=True).item()\n",
    "advs = data['advs']\n",
    "classes = data['adv_class']\n",
    "pert_lengths = data['pert_lengths']\n",
    "dirs = data['dirs']\n",
    "images = data['images']\n",
    "labels = data['labels']\n",
    "\n",
    "\n",
    "for batch_n in np.arange(1,n_batches):\n",
    "    path = f'./data/{model_type}{model_id}_{batch_n}.npy'\n",
    "    data = np.load(path, allow_pickle=True).item()\n",
    "    advs = np.concatenate((advs, data['advs']), axis=0)\n",
    "    classes = np.concatenate((classes, data['adv_class']), axis=0)\n",
    "    pert_lengths = np.concatenate((pert_lengths, data['pert_lengths']), axis=0)\n",
    "    dirs = np.concatenate((dirs, data['dirs']), axis=0)\n",
    "    images = np.concatenate((images, data['images']), axis=0)\n",
    "    labels = np.concatenate((labels, data['labels']), axis=0)"
   ]
  },
  {
   "cell_type": "code",
   "execution_count": null,
   "metadata": {},
   "outputs": [],
   "source": [
    "pert_lengths[pert_lengths==0] = np.nan\n",
    "sort_idx = np.argsort(pert_lengths,axis=-1)\n",
    "for i, idx in enumerate(sort_idx):\n",
    "    pert_lengths[i] = pert_lengths[i,idx]\n",
    "    dirs[i] = dirs[i,idx]\n",
    "    advs[i] = advs[i,idx]\n",
    "    classes[i] = classes[i,idx]"
   ]
  },
  {
   "cell_type": "code",
   "execution_count": null,
   "metadata": {},
   "outputs": [],
   "source": [
    "data = {\n",
    "    'advs': advs,\n",
    "    'dirs': dirs,\n",
    "    'adv_class': classes,\n",
    "    'pert_lengths': pert_lengths,\n",
    "    'images': images,\n",
    "    'labels': labels,\n",
    "}\n",
    "save_path = f'./data/concatenated/{model_type}_{model_id}.npy'\n",
    "np.save(save_path, data)"
   ]
  },
  {
   "cell_type": "code",
   "execution_count": null,
   "metadata": {},
   "outputs": [],
   "source": []
  }
 ],
 "metadata": {
  "kernelspec": {
   "display_name": "Python 3",
   "language": "python",
   "name": "python3"
  },
  "language_info": {
   "codemirror_mode": {
    "name": "ipython",
    "version": 3
   },
   "file_extension": ".py",
   "mimetype": "text/x-python",
   "name": "python",
   "nbconvert_exporter": "python",
   "pygments_lexer": "ipython3",
   "version": "3.8.0"
  }
 },
 "nbformat": 4,
 "nbformat_minor": 5
}
