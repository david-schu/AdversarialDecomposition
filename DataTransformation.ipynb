{
 "cells": [
  {
   "cell_type": "code",
   "execution_count": 1,
   "id": "941fcace",
   "metadata": {},
   "outputs": [
    {
     "name": "stderr",
     "output_type": "stream",
     "text": [
      "/mnt/qb/home/bethge/dschultheiss/AdversarialDecomposition/robustness1/train.py:24: UserWarning: Could not import amp.\n",
      "  warnings.warn('Could not import amp.')\n"
     ]
    }
   ],
   "source": [
    "import sys\n",
    "sys.path.insert(0, './..')\n",
    "sys.path.insert(0, '../data')\n",
    "\n",
    "import matplotlib.pyplot as plt\n",
    "import numpy as np\n",
    "import plots as pl\n",
    "from models import model\n",
    "import torch\n",
    "from utils import dev, load_data, classification\n",
    "from torchvision import datasets, transforms\n",
    "from models import eval\n",
    "import dill\n",
    "from robustness1 import model_utils, datasets, train, defaults\n",
    "from robustness1.datasets import CIFAR\n",
    "from torch.utils.data import DataLoader\n",
    "\n",
    "# We use cox (http://github.com/MadryLab/cox) to log, store and analyze\n",
    "# results. Read more at https//cox.readthedocs.io.\n",
    "from cox.utils import Parameters\n",
    "import cox.store"
   ]
  },
  {
   "cell_type": "markdown",
   "id": "1b87efa5",
   "metadata": {},
   "source": [
    "# Load CIFAR model"
   ]
  },
  {
   "cell_type": "markdown",
   "id": "64436db7",
   "metadata": {},
   "source": [
    "# Evaluate model"
   ]
  },
  {
   "cell_type": "code",
   "execution_count": 14,
   "id": "bfc7f2a7",
   "metadata": {},
   "outputs": [
    {
     "name": "stdout",
     "output_type": "stream",
     "text": [
      "Custom model\n",
      "=> loading checkpoint './models/cifar_models/nat_diff.pt'\n",
      "=> loaded checkpoint './models/cifar_models/nat_diff.pt' (epoch 111)\n",
      "Custom model\n",
      "=> loading checkpoint './models/cifar_models/rob_diff.pt'\n",
      "=> loaded checkpoint './models/cifar_models/rob_diff.pt' (epoch 150)\n",
      "==> Preparing dataset cifar..\n",
      "Files already downloaded and verified\n",
      "Files already downloaded and verified\n",
      "Logging in: /mnt/qb/home/bethge/dschultheiss/AdversarialDecomposition/rob/05701b23-7dfe-478a-b339-997a93556188\n"
     ]
    },
    {
     "name": "stderr",
     "output_type": "stream",
     "text": [
      "Val Epoch:0 | Loss 0.4375 | NatPrec1 85.430 | NatPrec5 99.410 | Reg term: 0.0 ||: 100%|██████████| 79/79 [00:03<00:00, 25.98it/s]\n",
      "Val Epoch:0 | Loss 0.9288 | AdvPrec1 65.070 | AdvPrec5 98.180 | Reg term: 0.0 ||: 100%|██████████| 79/79 [02:18<00:00,  1.75s/it]\n"
     ]
    },
    {
     "data": {
      "text/plain": [
       "{'epoch': 0,\n",
       " 'nat_prec1': tensor(85.4300, device='cuda:0'),\n",
       " 'adv_prec1': tensor(65.0700, device='cuda:0'),\n",
       " 'nat_loss': 0.4375362557411194,\n",
       " 'adv_loss': 0.9287609119415283,\n",
       " 'train_prec1': nan,\n",
       " 'train_loss': nan,\n",
       " 'time': 142.0380403995514}"
      ]
     },
     "execution_count": 14,
     "metadata": {},
     "output_type": "execute_result"
    }
   ],
   "source": [
    "ds = CIFAR('../data/')\n",
    "m_nat, _ = model_utils.make_and_restore_model(arch='resnet50', dataset=ds, resume_path='./models/cifar_models/nat_diff.pt')\n",
    "m_rob, _ = model_utils.make_and_restore_model(arch='resnet50', dataset=ds, resume_path='./models/cifar_models/rob_diff.pt')\n",
    "train_loader, val_loader = ds.make_loaders(batch_size=128, workers=8)\n",
    "\n",
    "# # Create a cox store for logging\n",
    "# out_store = cox.store.Store('./nat')\n",
    "\n",
    "# # Hard-coded base parameters\n",
    "# train_kwargs = {\n",
    "#     'out_dir': \"./rob/train_out\",\n",
    "#     'eval_only': 1,\n",
    "#     'adv_eval': 1,\n",
    "#     'constraint': '2',\n",
    "#     'eps': 0.5,\n",
    "#     'attack_lr': 1.5,\n",
    "#     'attack_steps': 20\n",
    "# }\n",
    "# train_args = Parameters(train_kwargs)\n",
    "\n",
    "# # Fill whatever parameters are missing from the defaults\n",
    "# train_args = defaults.check_and_fill_args(train_args, defaults.CONFIG_ARGS, CIFAR)\n",
    "# train_args = defaults.check_and_fill_args(train_args, defaults.PGD_ARGS, CIFAR)\n",
    "\n",
    "\n",
    "# # Train a model\n",
    "# train.eval_model(train_args, m_rob, val_loader, store=out_store)\n",
    "\n",
    "\n",
    "# Create a cox store for logging\n",
    "out_store = cox.store.Store('./rob')\n",
    "\n",
    "# Hard-coded base parameters\n",
    "train_kwargs = {\n",
    "    'out_dir': \"./rob/train_out\",\n",
    "    'eval_only': 1,\n",
    "    'adv_eval': 1,\n",
    "    'constraint': '2',\n",
    "    'eps': 0.5,\n",
    "    'attack_lr': 1.5,\n",
    "    'attack_steps': 20\n",
    "}\n",
    "train_args = Parameters(train_kwargs)\n",
    "\n",
    "# Fill whatever parameters are missing from the defaults\n",
    "train_args = defaults.check_and_fill_args(train_args, defaults.CONFIG_ARGS, CIFAR)\n",
    "train_args = defaults.check_and_fill_args(train_args, defaults.PGD_ARGS, CIFAR)\n",
    "\n",
    "# Train a model\n",
    "train.eval_model(train_args, m_rob, val_loader, store=out_store)\n",
    "\n",
    "\n"
   ]
  },
  {
   "cell_type": "markdown",
   "id": "917389c2",
   "metadata": {},
   "source": [
    "# Make evenly distributed dataset with true samples only"
   ]
  },
  {
   "cell_type": "code",
   "execution_count": 20,
   "id": "5e1e8299",
   "metadata": {},
   "outputs": [
    {
     "name": "stdout",
     "output_type": "stream",
     "text": [
      "Custom model\n",
      "=> loading checkpoint './models/cifar_models/nat_diff.pt'\n",
      "=> loaded checkpoint './models/cifar_models/nat_diff.pt' (epoch 111)\n",
      "Custom model\n",
      "=> loading checkpoint './models/cifar_models/rob_diff.pt'\n",
      "=> loaded checkpoint './models/cifar_models/rob_diff.pt' (epoch 150)\n",
      "Files already downloaded and verified\n",
      "Accuracy: 85.0\n"
     ]
    }
   ],
   "source": [
    "ds = CIFAR('../data/')\n",
    "m_nat, _ = model_utils.make_and_restore_model(arch='resnet50', dataset=ds, resume_path='./models/cifar_models/nat_diff.pt')\n",
    "m_nat.to(dev())\n",
    "m_nat.double()\n",
    "m_nat.eval()\n",
    "\n",
    "m_rob, _ = model_utils.make_and_restore_model(arch='resnet50', dataset=ds, resume_path='./models/cifar_models/rob_diff.pt')\n",
    "m_rob.to(dev())\n",
    "m_rob.double()\n",
    "m_rob.eval()\n",
    "\n",
    "\n",
    "images, labels = load_data(1000, random=False, train=False, d_set='CIFAR')\n",
    "image_batches = torch.split(images, 128)\n",
    "label_batches = torch.split(labels, 128)\n",
    "\n",
    "correct_classes = np.full(len(images), True)\n",
    "preds = np.empty(0)\n",
    "\n",
    "for img, labels_ in zip(image_batches, label_batches):\n",
    "    preds = np.concatenate((preds, m_nat(img.to(dev()))[0].argmax(-1).cpu().numpy()), axis=0)\n",
    "    \n",
    "correct_classes[~(preds==labels.numpy())]=False\n",
    "\n",
    "preds = np.empty(0)\n",
    "for img, labels_ in zip(image_batches, label_batches):\n",
    "    preds = np.concatenate((preds, m_rob(img.to(dev()))[0].argmax(-1).cpu().numpy()), axis=0)\n",
    "    \n",
    "correct_classes[~(preds==labels.numpy())]=False\n",
    "\n",
    "images = images[correct_classes]\n",
    "labels = labels[correct_classes]\n",
    "\n",
    "data = {\n",
    "    'images': images.cpu(),\n",
    "    'labels': labels.cpu()\n",
    "}\n",
    "\n",
    "save_path = '/home/bethge/dschultheiss/AdversarialDecomposition/data/CIFAR/stable_data_diff.npy'\n",
    "np.save(save_path, data)\n",
    "print('Accuracy: ' + str(100*correct/all_n))"
   ]
  },
  {
   "cell_type": "markdown",
   "id": "78e219a0",
   "metadata": {},
   "source": [
    "# Concatenate data"
   ]
  },
  {
   "cell_type": "code",
   "execution_count": 2,
   "id": "ecf5b77c",
   "metadata": {},
   "outputs": [],
   "source": [
    "model_id = 0\n",
    "n_batches = 100\n",
    "model_type = \"natural\"\n",
    "\n",
    "data = np.load('./data/cifar_' + model_type + '_0.npy', allow_pickle=True).item()\n",
    "advs = data['advs']\n",
    "classes = data['adv_class']\n",
    "pert_lengths = data['pert_lengths']\n",
    "dirs = data['dirs']\n",
    "images = data['images']\n",
    "labels = data['labels']\n",
    "\n",
    "\n",
    "for batch_n in np.arange(1,n_batches):\n",
    "    path = './data/cifar_' + model_type + '_'+str(batch_n)+'.npy'\n",
    "    data = np.load(path, allow_pickle=True).item()\n",
    "    advs = np.concatenate((advs, data['advs']), axis=0)\n",
    "    classes = np.concatenate((classes, data['adv_class']), axis=0)\n",
    "    pert_lengths = np.concatenate((pert_lengths, data['pert_lengths']), axis=0)\n",
    "    dirs = np.concatenate((dirs, data['dirs']), axis=0)\n",
    "    images = np.concatenate((images, data['images']), axis=0)\n",
    "    labels = np.concatenate((labels, data['labels']), axis=0)"
   ]
  },
  {
   "cell_type": "code",
   "execution_count": 3,
   "id": "0192937b",
   "metadata": {},
   "outputs": [],
   "source": [
    "pert_lengths[pert_lengths==0] = np.nan\n",
    "sort_idx = np.argsort(pert_lengths,axis=-1)\n",
    "for i, idx in enumerate(sort_idx):\n",
    "    pert_lengths[i] = pert_lengths[i,idx]\n",
    "    dirs[i] = dirs[i,idx]\n",
    "    advs[i] = advs[i,idx]\n",
    "    classes[i] = classes[i,idx]"
   ]
  },
  {
   "cell_type": "code",
   "execution_count": 4,
   "id": "f30fe345",
   "metadata": {},
   "outputs": [
    {
     "data": {
      "text/plain": [
       "0"
      ]
     },
     "execution_count": 4,
     "metadata": {},
     "output_type": "execute_result"
    }
   ],
   "source": [
    "np.isnan(pert_lengths).sum()"
   ]
  },
  {
   "cell_type": "code",
   "execution_count": 5,
   "id": "7db5c009",
   "metadata": {},
   "outputs": [],
   "source": [
    "data = {\n",
    "    'advs': advs,\n",
    "    'dirs': dirs,\n",
    "    'adv_class': classes,\n",
    "    'pert_lengths': pert_lengths,\n",
    "    'images': images,\n",
    "    'labels': labels,\n",
    "}\n",
    "save_path = '/home/bethge/dschultheiss/AdversarialDecomposition/data/cifar_' + model_type + '_diff'\n",
    "np.save(save_path, data)"
   ]
  }
 ],
 "metadata": {
  "kernelspec": {
   "display_name": "Python 3",
   "language": "python",
   "name": "python3"
  },
  "language_info": {
   "codemirror_mode": {
    "name": "ipython",
    "version": 3
   },
   "file_extension": ".py",
   "mimetype": "text/x-python",
   "name": "python",
   "nbconvert_exporter": "python",
   "pygments_lexer": "ipython3",
   "version": "3.6.8"
  }
 },
 "nbformat": 4,
 "nbformat_minor": 5
}
